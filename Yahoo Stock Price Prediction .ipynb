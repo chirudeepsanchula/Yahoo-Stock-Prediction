{
 "cells": [
  {
   "cell_type": "markdown",
   "id": "a3587ecf",
   "metadata": {},
   "source": [
    "# DEEP LEARNING METHOD TO PREDICT YAHOO STOCK MARKET PRICES USING LSTM MODEL "
   ]
  },
  {
   "cell_type": "markdown",
   "id": "e385879c",
   "metadata": {},
   "source": [
    "> ### Long Short-Term Memory (LSTM) is a type of Recurrent Neural Network (RNN) that is specifically designed to handle sequential data, such as time series, speech, and text. LSTM networks are capable of learning long-term dependencies in sequential data, which makes them well suited for tasks such as language translation, speech recognition, and time series forecasting."
   ]
  },
  {
   "cell_type": "markdown",
   "id": "4c5f2291",
   "metadata": {},
   "source": [
    "> ### It tackled the problem of long-term dependencies of RNN in which the RNN cannot predict the word stored in the long-term memory but can give more accurate predictions from the recent information. LSTM can by default retain the information for a long period of time. It is used for processing, predicting, and classifying on the basis of time-series data. "
   ]
  },
  {
   "cell_type": "markdown",
   "id": "222cf6b5",
   "metadata": {},
   "source": [
    "## PREREQUISITES\n",
    "\n",
    "#### !pip install tensorflow keras numpy matplotlib pandas yfinance"
   ]
  },
  {
   "cell_type": "code",
   "execution_count": 1,
   "id": "8fb99ddd",
   "metadata": {},
   "outputs": [
    {
     "name": "stdout",
     "output_type": "stream",
     "text": [
      "WARNING:tensorflow:From C:\\Python311\\Lib\\site-packages\\keras\\src\\losses.py:2976: The name tf.losses.sparse_softmax_cross_entropy is deprecated. Please use tf.compat.v1.losses.sparse_softmax_cross_entropy instead.\n",
      "\n"
     ]
    }
   ],
   "source": [
    "import yfinance as yf\n",
    "import numpy as np\n",
    "import pandas as pd\n",
    "import matplotlib.pyplot as plt\n",
    "from sklearn.preprocessing import MinMaxScaler\n",
    "from tensorflow import keras\n",
    "import matplotlib.dates as mdates"
   ]
  },
  {
   "cell_type": "markdown",
   "id": "7612bd87",
   "metadata": {},
   "source": [
    "## DATA PREPROCESSING AND PREPARATION"
   ]
  },
  {
   "cell_type": "code",
   "execution_count": 2,
   "id": "0dc674ff",
   "metadata": {},
   "outputs": [
    {
     "name": "stdout",
     "output_type": "stream",
     "text": [
      "[*********************100%%**********************]  1 of 1 completed\n"
     ]
    }
   ],
   "source": [
    "Stock = yf.download('SPY', start='2010-01-01', end='2023-01-01')\n",
    "\n",
    "# Split data into training (2010-2020) and validation (2020-2023) sets\n",
    "training_data = Stock['Adj Close']['2010-01-01':'2020-12-31']\n",
    "validation_data = Stock['Adj Close']['2021-01-01':'2023-01-01']\n",
    "\n",
    "training_set = training_data.values.reshape(-1, 1)\n",
    "validation_set = validation_data.values.reshape(-1, 1)"
   ]
  },
  {
   "cell_type": "code",
   "execution_count": 3,
   "id": "e6758b07",
   "metadata": {},
   "outputs": [
    {
     "name": "stdout",
     "output_type": "stream",
     "text": [
      "                  Open        High         Low       Close   Adj Close  \\\n",
      "Date                                                                     \n",
      "2010-01-04  112.370003  113.389999  111.510002  113.330002   87.483192   \n",
      "2010-01-05  113.260002  113.680000  112.849998  113.629997   87.714767   \n",
      "2010-01-06  113.519997  113.989998  113.430000  113.709999   87.776497   \n",
      "2010-01-07  113.500000  114.330002  113.180000  114.190002   88.147049   \n",
      "2010-01-08  113.889999  114.620003  113.660004  114.570000   88.440392   \n",
      "...                ...         ...         ...         ...         ...   \n",
      "2022-12-23  379.649994  383.059998  378.029999  382.910004  378.706635   \n",
      "2022-12-27  382.790009  383.149994  379.649994  381.399994  377.213226   \n",
      "2022-12-28  381.329987  383.390015  376.420013  376.660004  372.525238   \n",
      "2022-12-29  379.630005  384.350006  379.079987  383.440002  379.230804   \n",
      "2022-12-30  380.640015  382.579987  378.429993  382.429993  378.231934   \n",
      "\n",
      "               Volume  \n",
      "Date                   \n",
      "2010-01-04  118944600  \n",
      "2010-01-05  111579900  \n",
      "2010-01-06  116074400  \n",
      "2010-01-07  131091100  \n",
      "2010-01-08  126402800  \n",
      "...               ...  \n",
      "2022-12-23   59857300  \n",
      "2022-12-27   51638200  \n",
      "2022-12-28   70911500  \n",
      "2022-12-29   66970900  \n",
      "2022-12-30   84022200  \n",
      "\n",
      "[3272 rows x 6 columns]\n"
     ]
    }
   ],
   "source": [
    "print(Stock)"
   ]
  },
  {
   "cell_type": "code",
   "execution_count": 3,
   "id": "b7931478",
   "metadata": {},
   "outputs": [],
   "source": [
    "sc = MinMaxScaler(feature_range=(0, 1))\n",
    "training_set_scaled = sc.fit_transform(training_set)\n",
    "validation_set_scaled = sc.transform(validation_set)"
   ]
  },
  {
   "cell_type": "markdown",
   "id": "9e63dd19",
   "metadata": {},
   "source": [
    "## BUILDING THE LSTM MODEL"
   ]
  },
  {
   "cell_type": "markdown",
   "id": "2c76ef6e",
   "metadata": {},
   "source": [
    "### PREPARING INPUT DATA FOR THE MODEL"
   ]
  },
  {
   "cell_type": "code",
   "execution_count": 4,
   "id": "2a7ea096",
   "metadata": {},
   "outputs": [],
   "source": [
    "# Creating input sequences for training\n",
    "def create_sequences(data, seq_length=60):\n",
    "    X = []\n",
    "    y = []\n",
    "    for i in range(seq_length, len(data)):\n",
    "        X.append(data[i-seq_length:i, 0])\n",
    "        y.append(data[i, 0])\n",
    "    return np.array(X), np.array(y)\n",
    "\n",
    "X_train, y_train = create_sequences(training_set_scaled)\n",
    "X_validation, y_validation = create_sequences(validation_set_scaled)\n",
    "\n",
    "# Reshape inputs for LSTM model\n",
    "X_train = np.reshape(X_train, (X_train.shape[0], X_train.shape[1], 1))\n",
    "X_validation = np.reshape(X_validation, (X_validation.shape[0], X_validation.shape[1], 1))"
   ]
  },
  {
   "cell_type": "markdown",
   "id": "0452fe0f",
   "metadata": {},
   "source": [
    "### LSTM MODEL ARCHITECTURE "
   ]
  },
  {
   "cell_type": "code",
   "execution_count": 5,
   "id": "d5eb3f88",
   "metadata": {},
   "outputs": [
    {
     "name": "stdout",
     "output_type": "stream",
     "text": [
      "WARNING:tensorflow:From C:\\Python311\\Lib\\site-packages\\keras\\src\\backend.py:873: The name tf.get_default_graph is deprecated. Please use tf.compat.v1.get_default_graph instead.\n",
      "\n"
     ]
    }
   ],
   "source": [
    "model = keras.Sequential()\n",
    "model.add(keras.layers.LSTM(units=50, return_sequences=True, input_shape=(X_train.shape[1], 1)))\n",
    "model.add(keras.layers.Dropout(0.2))\n",
    "model.add(keras.layers.LSTM(units=50, return_sequences=True))\n",
    "model.add(keras.layers.Dropout(0.2))\n",
    "model.add(keras.layers.LSTM(units=50, return_sequences=True))\n",
    "model.add(keras.layers.Dropout(0.2))\n",
    "model.add(keras.layers.LSTM(units=50))\n",
    "model.add(keras.layers.Dropout(0.2))\n",
    "model.add(keras.layers.Dense(units=1))"
   ]
  },
  {
   "cell_type": "markdown",
   "id": "30508473",
   "metadata": {},
   "source": [
    "### TRAINING THE MODEL "
   ]
  },
  {
   "cell_type": "code",
   "execution_count": null,
   "id": "631b6a7b",
   "metadata": {},
   "outputs": [
    {
     "name": "stdout",
     "output_type": "stream",
     "text": [
      "WARNING:tensorflow:From C:\\Python311\\Lib\\site-packages\\keras\\src\\optimizers\\__init__.py:309: The name tf.train.Optimizer is deprecated. Please use tf.compat.v1.train.Optimizer instead.\n",
      "\n",
      "Epoch 1/45\n",
      "WARNING:tensorflow:From C:\\Python311\\Lib\\site-packages\\keras\\src\\utils\\tf_utils.py:492: The name tf.ragged.RaggedTensorValue is deprecated. Please use tf.compat.v1.ragged.RaggedTensorValue instead.\n",
      "\n",
      "85/85 [==============================] - 24s 136ms/step - loss: 0.0108 - val_loss: 0.0113\n",
      "Epoch 2/45\n",
      "85/85 [==============================] - 8s 99ms/step - loss: 0.0028 - val_loss: 0.0031\n",
      "Epoch 3/45\n",
      "85/85 [==============================] - 8s 100ms/step - loss: 0.0026 - val_loss: 0.0080\n",
      "Epoch 4/45\n",
      "85/85 [==============================] - 8s 97ms/step - loss: 0.0023 - val_loss: 0.0039\n",
      "Epoch 5/45\n",
      "85/85 [==============================] - 8s 96ms/step - loss: 0.0026 - val_loss: 0.0027\n",
      "Epoch 6/45\n",
      "85/85 [==============================] - 8s 93ms/step - loss: 0.0023 - val_loss: 0.0038\n",
      "Epoch 7/45\n",
      "85/85 [==============================] - 8s 88ms/step - loss: 0.0020 - val_loss: 0.0103\n",
      "Epoch 8/45\n",
      "85/85 [==============================] - 7s 87ms/step - loss: 0.0019 - val_loss: 0.0438\n",
      "Epoch 9/45\n",
      "85/85 [==============================] - 9s 100ms/step - loss: 0.0018 - val_loss: 0.0036\n",
      "Epoch 10/45\n",
      "85/85 [==============================] - 10s 115ms/step - loss: 0.0017 - val_loss: 0.0031\n",
      "Epoch 11/45\n",
      "85/85 [==============================] - 8s 90ms/step - loss: 0.0017 - val_loss: 0.0115\n",
      "Epoch 12/45\n",
      "85/85 [==============================] - 7s 78ms/step - loss: 0.0016 - val_loss: 0.0018\n",
      "Epoch 13/45\n",
      "85/85 [==============================] - 7s 79ms/step - loss: 0.0015 - val_loss: 0.0019\n",
      "Epoch 14/45\n",
      "85/85 [==============================] - 7s 78ms/step - loss: 0.0017 - val_loss: 0.0021\n",
      "Epoch 15/45\n",
      "85/85 [==============================] - 7s 78ms/step - loss: 0.0016 - val_loss: 0.0055\n",
      "Epoch 16/45\n",
      "85/85 [==============================] - 7s 77ms/step - loss: 0.0016 - val_loss: 0.0024\n",
      "Epoch 17/45\n",
      "85/85 [==============================] - 7s 79ms/step - loss: 0.0014 - val_loss: 0.0038\n",
      "Epoch 18/45\n",
      "85/85 [==============================] - 7s 79ms/step - loss: 0.0014 - val_loss: 0.0018\n",
      "Epoch 19/45\n",
      "85/85 [==============================] - 7s 80ms/step - loss: 0.0013 - val_loss: 0.0014\n",
      "Epoch 20/45\n",
      "85/85 [==============================] - 7s 82ms/step - loss: 0.0012 - val_loss: 0.0034\n",
      "Epoch 21/45\n",
      "85/85 [==============================] - 8s 88ms/step - loss: 0.0012 - val_loss: 0.0045\n",
      "Epoch 22/45\n",
      "85/85 [==============================] - 8s 90ms/step - loss: 0.0012 - val_loss: 0.0015\n",
      "Epoch 23/45\n",
      "85/85 [==============================] - 8s 91ms/step - loss: 0.0011 - val_loss: 0.0030\n",
      "Epoch 24/45\n",
      "85/85 [==============================] - 8s 97ms/step - loss: 0.0012 - val_loss: 0.0047\n",
      "Epoch 25/45\n",
      "85/85 [==============================] - 9s 101ms/step - loss: 0.0012 - val_loss: 0.0035\n",
      "Epoch 26/45\n",
      "85/85 [==============================] - 8s 91ms/step - loss: 0.0011 - val_loss: 0.0046\n",
      "Epoch 27/45\n",
      "85/85 [==============================] - 8s 90ms/step - loss: 0.0010 - val_loss: 0.0090\n",
      "Epoch 28/45\n",
      "85/85 [==============================] - 7s 87ms/step - loss: 0.0010 - val_loss: 0.0030\n",
      "Epoch 29/45\n",
      "85/85 [==============================] - 8s 89ms/step - loss: 0.0011 - val_loss: 0.0013\n",
      "Epoch 30/45\n",
      "85/85 [==============================] - 8s 91ms/step - loss: 9.9196e-04 - val_loss: 0.0026\n",
      "Epoch 31/45\n",
      "85/85 [==============================] - 8s 95ms/step - loss: 9.1479e-04 - val_loss: 0.0019\n",
      "Epoch 32/45\n",
      "85/85 [==============================] - 9s 106ms/step - loss: 9.3130e-04 - val_loss: 0.0027\n",
      "Epoch 33/45\n",
      "85/85 [==============================] - 9s 100ms/step - loss: 9.8305e-04 - val_loss: 0.0013\n",
      "Epoch 34/45\n",
      "85/85 [==============================] - 7s 88ms/step - loss: 0.0011 - val_loss: 0.0012\n",
      "Epoch 35/45\n",
      "85/85 [==============================] - 8s 89ms/step - loss: 9.4275e-04 - val_loss: 0.0066\n",
      "Epoch 36/45\n",
      "85/85 [==============================] - 7s 86ms/step - loss: 9.4662e-04 - val_loss: 0.0012\n",
      "Epoch 37/45\n",
      "85/85 [==============================] - 7s 88ms/step - loss: 9.3495e-04 - val_loss: 0.0051\n",
      "Epoch 38/45\n",
      "85/85 [==============================] - 8s 89ms/step - loss: 9.1833e-04 - val_loss: 0.0024\n",
      "Epoch 39/45\n",
      "85/85 [==============================] - 7s 86ms/step - loss: 8.8719e-04 - val_loss: 0.0038\n",
      "Epoch 40/45\n",
      " 5/85 [>.............................] - ETA: 5s - loss: 0.0011 "
     ]
    }
   ],
   "source": [
    "model.compile(optimizer='adam', loss='mean_squared_error')\n",
    "\n",
    "history = model.fit(X_train, y_train, epochs=45, batch_size=32, validation_data=(X_validation, y_validation))"
   ]
  },
  {
   "cell_type": "code",
   "execution_count": 7,
   "id": "bdd2523e",
   "metadata": {
    "scrolled": true
   },
   "outputs": [
    {
     "data": {
      "image/png": "[encoded data removed]",
      "text/plain": [
       "<Figure size 1000x500 with 1 Axes>"
      ]
     },
     "metadata": {},
     "output_type": "display_data"
    }
   ],
   "source": [
    "# Plot loss and accuracy during training\n",
    "plt.figure(figsize=(10, 5))\n",
    "plt.plot(history.history['loss'], label='Training Loss')\n",
    "plt.plot(history.history['val_loss'], label='Validation Loss')\n",
    "plt.title('Model Loss')\n",
    "plt.xlabel('Epoch')\n",
    "plt.ylabel('Loss')\n",
    "plt.legend()\n",
    "plt.show()"
   ]
  },
  {
   "cell_type": "markdown",
   "id": "1d06b991",
   "metadata": {},
   "source": [
    "## PREPARING TEST DATA"
   ]
  },
  {
   "cell_type": "code",
   "execution_count": 8,
   "id": "4ff65884",
   "metadata": {},
   "outputs": [
    {
     "name": "stdout",
     "output_type": "stream",
     "text": [
      "[*********************100%%**********************]  1 of 1 completed\n"
     ]
    }
   ],
   "source": [
    "Stock_test = yf.download('SPY', start='2022-01-01', end='2023-07-31')\n",
    "\n",
    "real_stock_price = Stock_test['Adj Close'].values.reshape(-1, 1)\n"
   ]
  },
  {
   "cell_type": "code",
   "execution_count": 9,
   "id": "5ef5ee9c",
   "metadata": {},
   "outputs": [],
   "source": [
    "dataset_total = pd.concat((Stock['Adj Close'], Stock_test['Adj Close']), axis=0)\n",
    "inputs = dataset_total[len(dataset_total) - len(Stock_test) - 60:].values\n",
    "inputs = inputs.reshape(-1, 1)\n",
    "inputs = sc.transform(inputs)\n",
    "X_test = []\n",
    "for i in range(60, len(inputs)):\n",
    "    X_test.append(inputs[i-60:i, 0])\n",
    "X_test = np.array(X_test)\n",
    "X_test = np.reshape(X_test, (X_test.shape[0], X_test.shape[1], 1))"
   ]
  },
  {
   "cell_type": "markdown",
   "id": "9850554e",
   "metadata": {},
   "source": [
    "## MAKING PREDICTIONS"
   ]
  },
  {
   "cell_type": "code",
   "execution_count": 10,
   "id": "bb5bd62a",
   "metadata": {},
   "outputs": [
    {
     "name": "stdout",
     "output_type": "stream",
     "text": [
      "13/13 [==============================] - 2s 23ms/step\n"
     ]
    }
   ],
   "source": [
    "predicted_stock_price = model.predict(X_test)\n",
    "predicted_stock_price = sc.inverse_transform(predicted_stock_price)"
   ]
  },
  {
   "cell_type": "code",
   "execution_count": 12,
   "id": "1c1a9b94",
   "metadata": {},
   "outputs": [
    {
     "data": {
      "text/plain": [
       "array([[361.41602],\n",
       "       [360.96704],\n",
       "       [361.4254 ],\n",
       "       [362.99234],\n",
       "       [365.67856],\n",
       "       [369.33725],\n",
       "       [373.72516],\n",
       "       [378.5821 ],\n",
       "       [383.6573 ],\n",
       "       [388.69427],\n",
       "       [393.48056],\n",
       "       [397.82092],\n",
       "       [401.56113],\n",
       "       [404.5939 ],\n",
       "       [406.84015],\n",
       "       [408.29858],\n",
       "       [409.0028 ],\n",
       "       [409.02655],\n",
       "       [408.4665 ],\n",
       "       [407.4894 ],\n",
       "       [406.30182],\n",
       "       [405.09848],\n",
       "       [404.04764],\n",
       "       [403.20938],\n",
       "       [402.602  ],\n",
       "       [402.20657],\n",
       "       [402.00507],\n",
       "       [402.00403],\n",
       "       [402.16187],\n",
       "       [402.38504],\n",
       "       [402.581  ],\n",
       "       [402.7159 ],\n",
       "       [402.78476],\n",
       "       [402.75134],\n",
       "       [402.57745],\n",
       "       [402.22238],\n",
       "       [401.63364],\n",
       "       [400.81967],\n",
       "       [399.86426],\n",
       "       [398.8567 ],\n",
       "       [397.84393],\n",
       "       [396.89432],\n",
       "       [396.05185],\n",
       "       [395.32443],\n",
       "       [394.64487],\n",
       "       [393.93176],\n",
       "       [393.1801 ],\n",
       "       [392.40112],\n",
       "       [391.59076],\n",
       "       [390.736  ],\n",
       "       [389.87637],\n",
       "       [389.10284],\n",
       "       [388.5205 ],\n",
       "       [388.2255 ],\n",
       "       [388.26865],\n",
       "       [388.6788 ],\n",
       "       [389.41537],\n",
       "       [390.4386 ],\n",
       "       [391.70276],\n",
       "       [393.1655 ],\n",
       "       [394.80255],\n",
       "       [396.564  ],\n",
       "       [398.35776],\n",
       "       [400.09857],\n",
       "       [401.73636],\n",
       "       [403.21216],\n",
       "       [404.46268],\n",
       "       [405.45917],\n",
       "       [406.19302],\n",
       "       [406.63986],\n",
       "       [406.7872 ],\n",
       "       [406.67087],\n",
       "       [406.31894],\n",
       "       [405.76956],\n",
       "       [405.10214],\n",
       "       [404.39337],\n",
       "       [403.6745 ],\n",
       "       [402.9052 ],\n",
       "       [402.05814],\n",
       "       [401.06458],\n",
       "       [399.88702],\n",
       "       [398.57373],\n",
       "       [397.12164],\n",
       "       [395.5499 ],\n",
       "       [393.9017 ],\n",
       "       [392.2896 ],\n",
       "       [390.74738],\n",
       "       [389.27655],\n",
       "       [387.81003],\n",
       "       [386.29404],\n",
       "       [384.67267],\n",
       "       [382.91956],\n",
       "       [381.0861 ],\n",
       "       [379.23752],\n",
       "       [377.47818],\n",
       "       [375.82135],\n",
       "       [374.24777],\n",
       "       [372.73685],\n",
       "       [371.31143],\n",
       "       [369.9876 ],\n",
       "       [368.79507],\n",
       "       [367.79507],\n",
       "       [367.08234],\n",
       "       [366.7106 ],\n",
       "       [366.67545],\n",
       "       [366.97388],\n",
       "       [367.5466 ],\n",
       "       [368.32224],\n",
       "       [369.2455 ],\n",
       "       [370.2435 ],\n",
       "       [371.20215],\n",
       "       [371.96942],\n",
       "       [372.36203],\n",
       "       [372.2548 ],\n",
       "       [371.62753],\n",
       "       [370.4696 ],\n",
       "       [368.82312],\n",
       "       [366.81412],\n",
       "       [364.58713],\n",
       "       [362.29773],\n",
       "       [360.1361 ],\n",
       "       [358.24777],\n",
       "       [356.68542],\n",
       "       [355.44962],\n",
       "       [354.49658],\n",
       "       [353.78842],\n",
       "       [353.29022],\n",
       "       [352.97382],\n",
       "       [352.8392 ],\n",
       "       [352.8824 ],\n",
       "       [353.0681 ],\n",
       "       [353.33682],\n",
       "       [353.62192],\n",
       "       [353.865  ],\n",
       "       [354.0611 ],\n",
       "       [354.20737],\n",
       "       [354.35556],\n",
       "       [354.56836],\n",
       "       [354.90988],\n",
       "       [355.40036],\n",
       "       [356.03296],\n",
       "       [356.7595 ],\n",
       "       [357.5722 ],\n",
       "       [358.48767],\n",
       "       [359.5427 ],\n",
       "       [360.74902],\n",
       "       [362.0805 ],\n",
       "       [363.5222 ],\n",
       "       [365.04813],\n",
       "       [366.6187 ],\n",
       "       [368.18732],\n",
       "       [369.70056],\n",
       "       [371.15396],\n",
       "       [372.55118],\n",
       "       [373.9278 ],\n",
       "       [375.31952],\n",
       "       [376.74728],\n",
       "       [378.1968 ],\n",
       "       [379.6443 ],\n",
       "       [381.0323 ],\n",
       "       [382.26324],\n",
       "       [383.25406],\n",
       "       [383.96255],\n",
       "       [384.41028],\n",
       "       [384.5751 ],\n",
       "       [384.43716],\n",
       "       [383.9803 ],\n",
       "       [383.2016 ],\n",
       "       [382.133  ],\n",
       "       [380.81088],\n",
       "       [379.28052],\n",
       "       [377.63205],\n",
       "       [375.97137],\n",
       "       [374.4207 ],\n",
       "       [373.09662],\n",
       "       [371.99225],\n",
       "       [371.07117],\n",
       "       [370.2681 ],\n",
       "       [369.51068],\n",
       "       [368.75955],\n",
       "       [367.97717],\n",
       "       [367.11288],\n",
       "       [366.12195],\n",
       "       [364.95676],\n",
       "       [363.5824 ],\n",
       "       [361.99304],\n",
       "       [360.24805],\n",
       "       [358.39084],\n",
       "       [356.44214],\n",
       "       [354.47186],\n",
       "       [352.60846],\n",
       "       [350.96246],\n",
       "       [349.59015],\n",
       "       [348.46   ],\n",
       "       [347.50253],\n",
       "       [346.63876],\n",
       "       [345.80035],\n",
       "       [344.98807],\n",
       "       [344.1847 ],\n",
       "       [343.4227 ],\n",
       "       [342.76086],\n",
       "       [342.2359 ],\n",
       "       [341.8497 ],\n",
       "       [341.63013],\n",
       "       [341.61575],\n",
       "       [341.8554 ],\n",
       "       [342.35724],\n",
       "       [343.08826],\n",
       "       [344.03772],\n",
       "       [345.1697 ],\n",
       "       [346.4264 ],\n",
       "       [347.6979 ],\n",
       "       [348.86316],\n",
       "       [349.8553 ],\n",
       "       [350.66113],\n",
       "       [351.30356],\n",
       "       [351.77875],\n",
       "       [352.1845 ],\n",
       "       [352.63702],\n",
       "       [353.20746],\n",
       "       [353.94226],\n",
       "       [354.83792],\n",
       "       [355.85706],\n",
       "       [356.9569 ],\n",
       "       [358.08566],\n",
       "       [359.2201 ],\n",
       "       [360.3556 ],\n",
       "       [361.48755],\n",
       "       [362.57562],\n",
       "       [363.57483],\n",
       "       [364.50986],\n",
       "       [365.41257],\n",
       "       [366.30466],\n",
       "       [367.15973],\n",
       "       [367.9156 ],\n",
       "       [368.51535],\n",
       "       [368.93817],\n",
       "       [369.17282],\n",
       "       [369.25217],\n",
       "       [369.23514],\n",
       "       [369.16617],\n",
       "       [369.0316 ],\n",
       "       [368.7892 ],\n",
       "       [368.39175],\n",
       "       [367.817  ],\n",
       "       [367.09628],\n",
       "       [366.25348],\n",
       "       [365.32913],\n",
       "       [364.35974],\n",
       "       [363.35675],\n",
       "       [362.3628 ],\n",
       "       [361.41602],\n",
       "       [360.5389 ],\n",
       "       [359.75894],\n",
       "       [359.07404],\n",
       "       [358.5156 ],\n",
       "       [358.10834],\n",
       "       [357.87585],\n",
       "       [357.84998],\n",
       "       [358.04974],\n",
       "       [358.4789 ],\n",
       "       [359.1159 ],\n",
       "       [359.89056],\n",
       "       [360.71213],\n",
       "       [361.53528],\n",
       "       [362.35583],\n",
       "       [363.17618],\n",
       "       [363.99698],\n",
       "       [364.835  ],\n",
       "       [365.70508],\n",
       "       [366.58566],\n",
       "       [367.47488],\n",
       "       [368.38974],\n",
       "       [369.36972],\n",
       "       [370.4183 ],\n",
       "       [371.50684],\n",
       "       [372.62256],\n",
       "       [373.72766],\n",
       "       [374.7664 ],\n",
       "       [375.6957 ],\n",
       "       [376.51132],\n",
       "       [377.2214 ],\n",
       "       [377.84518],\n",
       "       [378.3737 ],\n",
       "       [378.79187],\n",
       "       [379.0511 ],\n",
       "       [379.1136 ],\n",
       "       [378.97577],\n",
       "       [378.6363 ],\n",
       "       [378.11713],\n",
       "       [377.44705],\n",
       "       [376.65585],\n",
       "       [375.7922 ],\n",
       "       [374.93646],\n",
       "       [374.16116],\n",
       "       [373.48767],\n",
       "       [372.91965],\n",
       "       [372.4148 ],\n",
       "       [371.902  ],\n",
       "       [371.3223 ],\n",
       "       [370.673  ],\n",
       "       [369.96313],\n",
       "       [369.2449 ],\n",
       "       [368.55014],\n",
       "       [367.91922],\n",
       "       [367.4077 ],\n",
       "       [367.02274],\n",
       "       [366.75742],\n",
       "       [366.60815],\n",
       "       [366.56998],\n",
       "       [366.6279 ],\n",
       "       [366.7904 ],\n",
       "       [367.0731 ],\n",
       "       [367.50845],\n",
       "       [368.12033],\n",
       "       [368.89825],\n",
       "       [369.80588],\n",
       "       [370.80322],\n",
       "       [371.84973],\n",
       "       [372.90704],\n",
       "       [373.9327 ],\n",
       "       [374.91742],\n",
       "       [375.85422],\n",
       "       [376.74426],\n",
       "       [377.5893 ],\n",
       "       [378.3884 ],\n",
       "       [379.12714],\n",
       "       [379.79257],\n",
       "       [380.37775],\n",
       "       [380.8486 ],\n",
       "       [381.17035],\n",
       "       [381.36316],\n",
       "       [381.47894],\n",
       "       [381.56674],\n",
       "       [381.64133],\n",
       "       [381.6914 ],\n",
       "       [381.68842],\n",
       "       [381.64633],\n",
       "       [381.588  ],\n",
       "       [381.52606],\n",
       "       [381.47775],\n",
       "       [381.4523 ],\n",
       "       [381.4505 ],\n",
       "       [381.4762 ],\n",
       "       [381.5171 ],\n",
       "       [381.58377],\n",
       "       [381.70596],\n",
       "       [381.90375],\n",
       "       [382.18463],\n",
       "       [382.52103],\n",
       "       [382.8638 ],\n",
       "       [383.18594],\n",
       "       [383.49777],\n",
       "       [383.816  ],\n",
       "       [384.1425 ],\n",
       "       [384.4918 ],\n",
       "       [384.9031 ],\n",
       "       [385.4007 ],\n",
       "       [385.99515],\n",
       "       [386.6732 ],\n",
       "       [387.422  ],\n",
       "       [388.2263 ],\n",
       "       [389.08475],\n",
       "       [390.00488],\n",
       "       [390.98752],\n",
       "       [392.0484 ],\n",
       "       [393.1832 ],\n",
       "       [394.361  ],\n",
       "       [395.5318 ],\n",
       "       [396.6546 ],\n",
       "       [397.6815 ],\n",
       "       [398.56744],\n",
       "       [399.3078 ],\n",
       "       [399.91425],\n",
       "       [400.41388],\n",
       "       [400.85925],\n",
       "       [401.29776],\n",
       "       [401.75745],\n",
       "       [402.23245],\n",
       "       [402.70038],\n",
       "       [403.1428 ],\n",
       "       [403.55917],\n",
       "       [403.96994],\n",
       "       [404.4102 ],\n",
       "       [404.90335],\n",
       "       [405.4652 ],\n",
       "       [406.11325],\n",
       "       [406.85498],\n",
       "       [407.6679 ],\n",
       "       [408.51886],\n",
       "       [409.38226],\n",
       "       [410.24078],\n",
       "       [411.07944],\n",
       "       [411.8695 ]], dtype=float32)"
      ]
     },
     "execution_count": 12,
     "metadata": {},
     "output_type": "execute_result"
    }
   ],
   "source": [
    "predicted_stock_price"
   ]
  },
  {
   "cell_type": "markdown",
   "id": "d643b3a0",
   "metadata": {},
   "source": [
    "## VISUALIZING RESULTS "
   ]
  },
  {
   "cell_type": "code",
   "execution_count": 11,
   "id": "4c54acff",
   "metadata": {},
   "outputs": [
    {
     "data": {
      "image/png": "[encoded data removed]",
      "text/plain": [
       "<Figure size 1000x600 with 1 Axes>"
      ]
     },
     "metadata": {},
     "output_type": "display_data"
    }
   ],
   "source": [
    "date_range = pd.date_range(start='2022-01-01', periods=len(predicted_stock_price), freq='B')  \n",
    "plt.figure(figsize=(10, 6))\n",
    "plt.plot(Stock_test.index, real_stock_price, color='black', label='Actual Stock Price')\n",
    "plt.plot(date_range, predicted_stock_price, color='green', label='Predicted Stock Price')\n",
    "plt.gca().xaxis.set_major_locator(mdates.MonthLocator(interval=3))  \n",
    "plt.gca().xaxis.set_major_formatter(mdates.DateFormatter('%b %Y'))  \n",
    "plt.title('Stock Price Prediction')\n",
    "plt.xlabel('Time')\n",
    "plt.ylabel('Stock Price')\n",
    "plt.legend()\n",
    "plt.show()"
   ]
  },
  {
   "cell_type": "markdown",
   "id": "038a0e0f",
   "metadata": {},
   "source": [
    "## METRICS FOR ACCURACY"
   ]
  },
  {
   "cell_type": "code",
   "execution_count": 14,
   "id": "55672236",
   "metadata": {},
   "outputs": [
    {
     "name": "stdout",
     "output_type": "stream",
     "text": [
      "The directional accuracy of the model is: 50.12722646310432\n"
     ]
    }
   ],
   "source": [
    "# Define a function to calculate the directional accuracy\n",
    "def directional_accuracy(y_true, y_pred):\n",
    "    # Convert the arrays to numpy arrays\n",
    "    y_true = np.array(y_true)\n",
    "    y_pred = np.array(y_pred)\n",
    "    # Calculate the sign of the difference between the actual and predicted values\n",
    "    sign = np.sign(y_true[1:] - y_true[:-1]) * np.sign(y_pred[1:] - y_pred[:-1])\n",
    "    # Count the number of positive signs\n",
    "    positive = np.sum(sign > 0)\n",
    "    # Calculate the percentage of positive signs\n",
    "    percentage = positive / len(sign) * 100\n",
    "    # Return the percentage\n",
    "    return percentage\n",
    "\n",
    "# Calculate the directional accuracy for the test set\n",
    "da = directional_accuracy(real_stock_price, predicted_stock_price)\n",
    "# Print the directional accuracy\n",
    "print('The directional accuracy of the model is:', da)\n"
   ]
  },
  {
   "cell_type": "code",
   "execution_count": 13,
   "id": "d71951df",
   "metadata": {},
   "outputs": [
    {
     "name": "stdout",
     "output_type": "stream",
     "text": [
      "The Root Mean Squared Error of the model is: 11.784873827312238\n",
      "The Mean Absolute Percentage Error of the model is: 0.020258979124951504\n",
      "The Mean Absolute Error of the model is: 8.244002134061708\n"
     ]
    }
   ],
   "source": [
    "from sklearn import metrics\n",
    "\n",
    "rmse = metrics.mean_squared_error(real_stock_price, predicted_stock_price, squared=False)\n",
    "mape = metrics.mean_absolute_percentage_error(real_stock_price, predicted_stock_price)\n",
    "mae = metrics.mean_absolute_error(real_stock_price, predicted_stock_price)\n",
    "\n",
    "print('The Root Mean Squared Error of the model is:', rmse)\n",
    "print('The Mean Absolute Percentage Error of the model is:', mape)\n",
    "print('The Mean Absolute Error of the model is:', mae)\n"
   ]
  },
  {
   "cell_type": "markdown",
   "id": "056954c6",
   "metadata": {},
   "source": [
    "> HIGHER DA VALUE INDICATES BETTER FIT OF THE MODEL\n",
    "\n",
    "> LOWER RMSE VALUE INDICATES BETTER FIT OF THE MODEL \n",
    "\n",
    "> LOWER MAPE VALUE INDICATES BETTER FIT OF THE MODEL \n",
    "\n",
    "> LOWER MAE VALUE INDICATES BETTER FIT OF THE MODEL "
   ]
  }
 ],
 "metadata": {
  "kernelspec": {
   "display_name": "Python 3 (ipykernel)",
   "language": "python",
   "name": "python3"
  },
  "language_info": {
   "codemirror_mode": {
    "name": "ipython",
    "version": 3
   },
   "file_extension": ".py",
   "mimetype": "text/x-python",
   "name": "python",
   "nbconvert_exporter": "python",
   "pygments_lexer": "ipython3",
   "version": "3.11.3"
  }
 },
 "nbformat": 4,
 "nbformat_minor": 5
}
